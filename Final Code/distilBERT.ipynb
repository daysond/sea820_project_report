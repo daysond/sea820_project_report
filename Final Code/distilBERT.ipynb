{
 "cells": [
  {
   "cell_type": "markdown",
   "id": "4bf7d591",
   "metadata": {},
   "source": [
    "# DistilBERT PEFT Training"
   ]
  },
  {
   "cell_type": "markdown",
   "id": "41a093cc",
   "metadata": {},
   "source": [
    "## Prepare imports"
   ]
  },
  {
   "cell_type": "code",
   "execution_count": 1,
   "id": "e6e9968f",
   "metadata": {},
   "outputs": [],
   "source": [
    "from datasets import load_dataset, Dataset\n",
    "from transformers import (\n",
    "    AutoTokenizer, AutoModelForSequenceClassification,\n",
    "    TrainingArguments, Trainer\n",
    ")\n",
    "from peft import get_peft_model, LoraConfig, TaskType\n",
    "from sklearn.metrics import classification_report\n",
    "import evaluate\n",
    "import numpy as np\n",
    "import torch\n",
    "import pandas as pd"
   ]
  },
  {
   "cell_type": "markdown",
   "id": "08861f03",
   "metadata": {},
   "source": [
    "## 1. Loading the pre-processed dataset"
   ]
  },
  {
   "cell_type": "code",
   "execution_count": 2,
   "id": "020e41db",
   "metadata": {},
   "outputs": [],
   "source": [
    "# Load the dataset from your local path\n",
    "df = pd.read_csv('./df1_cleaned_processed.csv')  \n",
    "df[\"generated\"] = df[\"generated\"].astype(int)"
   ]
  },
  {
   "cell_type": "markdown",
   "id": "2cf502c5",
   "metadata": {},
   "source": [
    "## 2. Train-Test Split"
   ]
  },
  {
   "cell_type": "code",
   "execution_count": 3,
   "id": "009edd5d",
   "metadata": {},
   "outputs": [
    {
     "data": {
      "text/plain": [
       "DatasetDict({\n",
       "    train: Dataset({\n",
       "        features: ['text', 'label'],\n",
       "        num_rows: 85142\n",
       "    })\n",
       "    test: Dataset({\n",
       "        features: ['text', 'label'],\n",
       "        num_rows: 21286\n",
       "    })\n",
       "})"
      ]
     },
     "execution_count": 3,
     "metadata": {},
     "output_type": "execute_result"
    }
   ],
   "source": [
    "from sklearn.model_selection import train_test_split\n",
    "from datasets import Dataset, DatasetDict\n",
    "\n",
    "# Step 1: Split using sklearn (this supports stratify even on float/int)\n",
    "df_train, df_test = train_test_split(\n",
    "    df[['text', 'generated']].rename(columns={'generated': 'label'}),\n",
    "    test_size=0.2,\n",
    "    stratify=df['generated'],\n",
    "    random_state=42\n",
    ")\n",
    "\n",
    "# Step 2: Convert to Hugging Face Dataset\n",
    "dataset = DatasetDict({\n",
    "    \"train\": Dataset.from_pandas(df_train.reset_index(drop=True)),\n",
    "    \"test\": Dataset.from_pandas(df_test.reset_index(drop=True))\n",
    "})\n",
    "\n",
    "dataset\n"
   ]
  },
  {
   "cell_type": "markdown",
   "id": "a95d90b9",
   "metadata": {},
   "source": [
    "## 3. Tokenize the text"
   ]
  },
  {
   "cell_type": "code",
   "execution_count": 4,
   "id": "ee968de0",
   "metadata": {},
   "outputs": [
    {
     "data": {
      "application/vnd.jupyter.widget-view+json": {
       "model_id": "260de00b22aa4a8c9ce58da71ec84999",
       "version_major": 2,
       "version_minor": 0
      },
      "text/plain": [
       "Map:   0%|          | 0/85142 [00:00<?, ? examples/s]"
      ]
     },
     "metadata": {},
     "output_type": "display_data"
    },
    {
     "data": {
      "application/vnd.jupyter.widget-view+json": {
       "model_id": "7f5268c726204f6b9197c8e4595ea898",
       "version_major": 2,
       "version_minor": 0
      },
      "text/plain": [
       "Map:   0%|          | 0/21286 [00:00<?, ? examples/s]"
      ]
     },
     "metadata": {},
     "output_type": "display_data"
    }
   ],
   "source": [
    "model_name = \"distilbert-base-uncased\"\n",
    "tokenizer = AutoTokenizer.from_pretrained(model_name)\n",
    "\n",
    "def tokenize(batch):\n",
    "    return tokenizer(batch[\"text\"], truncation=True, padding=\"max_length\", max_length=256)\n",
    "\n",
    "tokenized = dataset.map(tokenize, batched=True)\n",
    "tokenized = tokenized.remove_columns([\"text\"])\n",
    "tokenized.set_format(\"torch\")\n"
   ]
  },
  {
   "cell_type": "markdown",
   "id": "f6ffc6f2",
   "metadata": {},
   "source": [
    "## 4. LoRa Configuration"
   ]
  },
  {
   "cell_type": "code",
   "execution_count": 5,
   "id": "23b5adda",
   "metadata": {},
   "outputs": [
    {
     "name": "stderr",
     "output_type": "stream",
     "text": [
      "Some weights of DistilBertForSequenceClassification were not initialized from the model checkpoint at distilbert-base-uncased and are newly initialized: ['classifier.bias', 'classifier.weight', 'pre_classifier.bias', 'pre_classifier.weight']\n",
      "You should probably TRAIN this model on a down-stream task to be able to use it for predictions and inference.\n"
     ]
    },
    {
     "name": "stdout",
     "output_type": "stream",
     "text": [
      "trainable params: 739,586 || all params: 67,694,596 || trainable%: 1.0925\n"
     ]
    }
   ],
   "source": [
    "from peft import LoraConfig, get_peft_model, TaskType\n",
    "from transformers import AutoModelForSequenceClassification\n",
    "\n",
    "base_model = AutoModelForSequenceClassification.from_pretrained(\"distilbert-base-uncased\", num_labels=2)\n",
    "\n",
    "# Note that after hyperparameter search, using the suggested parameter does not boost the result much\n",
    "# Thus the same values from the draft are kept\n",
    "peft_config = LoraConfig(\n",
    "    r=8,\n",
    "    lora_alpha=16,\n",
    "    task_type=TaskType.SEQ_CLS,\n",
    "    lora_dropout=0.1,\n",
    "    bias=\"none\",\n",
    "    target_modules=[\"q_lin\", \"v_lin\"]  # specific to DistilBERT\n",
    ")\n",
    "\n",
    "model = get_peft_model(base_model, peft_config)\n",
    "model.print_trainable_parameters()\n",
    "\n"
   ]
  },
  {
   "cell_type": "markdown",
   "id": "58c46f8d",
   "metadata": {},
   "source": [
    "## 5. Trainer Arguments Configuration"
   ]
  },
  {
   "cell_type": "code",
   "execution_count": null,
   "id": "5bef22c8",
   "metadata": {},
   "outputs": [],
   "source": [
    "# same parameters are used, same rationale\n",
    "training_args = TrainingArguments(\n",
    "    output_dir=\"./results_distilbert_final\",\n",
    "    eval_strategy=\"epoch\",\n",
    "    save_strategy=\"epoch\",\n",
    "    learning_rate=2e-5,\n",
    "    per_device_train_batch_size=16,\n",
    "    per_device_eval_batch_size=32,\n",
    "    num_train_epochs=3,\n",
    "    weight_decay=0.01,\n",
    "    logging_dir=\"./logs\",\n",
    "    logging_steps=10,\n",
    "    load_best_model_at_end=True,\n",
    "    metric_for_best_model=\"f1\",\n",
    "    save_total_limit=1\n",
    ")\n",
    "\n",
    "# Metric function\n",
    "accuracy = evaluate.load(\"accuracy\")\n",
    "f1 = evaluate.load(\"f1\")\n",
    "\n",
    "def compute_metrics(pred):\n",
    "    logits, labels = pred\n",
    "    preds = np.argmax(logits, axis=-1)\n",
    "    return {\n",
    "        \"accuracy\": accuracy.compute(predictions=preds, references=labels)[\"accuracy\"],\n",
    "        \"f1\": f1.compute(predictions=preds, references=labels)[\"f1\"]\n",
    "    }\n"
   ]
  },
  {
   "cell_type": "markdown",
   "id": "d97df04e",
   "metadata": {},
   "source": [
    "## 6. Training"
   ]
  },
  {
   "cell_type": "code",
   "execution_count": 7,
   "id": "243e6148",
   "metadata": {},
   "outputs": [
    {
     "name": "stderr",
     "output_type": "stream",
     "text": [
      "C:\\Users\\Dayso\\AppData\\Local\\Temp\\ipykernel_41080\\2852150839.py:1: FutureWarning: `tokenizer` is deprecated and will be removed in version 5.0.0 for `Trainer.__init__`. Use `processing_class` instead.\n",
      "  trainer = Trainer(\n",
      "No label_names provided for model class `PeftModelForSequenceClassification`. Since `PeftModel` hides base models input arguments, if label_names is not given, label_names can't be set automatically within `Trainer`. Note that empty label_names list will be used instead.\n"
     ]
    },
    {
     "data": {
      "text/html": [
       "\n",
       "    <div>\n",
       "      \n",
       "      <progress value='15966' max='15966' style='width:300px; height:20px; vertical-align: middle;'></progress>\n",
       "      [15966/15966 21:54, Epoch 3/3]\n",
       "    </div>\n",
       "    <table border=\"1\" class=\"dataframe\">\n",
       "  <thead>\n",
       " <tr style=\"text-align: left;\">\n",
       "      <th>Epoch</th>\n",
       "      <th>Training Loss</th>\n",
       "      <th>Validation Loss</th>\n",
       "      <th>Accuracy</th>\n",
       "      <th>F1</th>\n",
       "    </tr>\n",
       "  </thead>\n",
       "  <tbody>\n",
       "    <tr>\n",
       "      <td>1</td>\n",
       "      <td>0.111700</td>\n",
       "      <td>0.105638</td>\n",
       "      <td>0.970027</td>\n",
       "      <td>0.970931</td>\n",
       "    </tr>\n",
       "    <tr>\n",
       "      <td>2</td>\n",
       "      <td>0.031800</td>\n",
       "      <td>0.080780</td>\n",
       "      <td>0.979799</td>\n",
       "      <td>0.980235</td>\n",
       "    </tr>\n",
       "    <tr>\n",
       "      <td>3</td>\n",
       "      <td>0.077500</td>\n",
       "      <td>0.095695</td>\n",
       "      <td>0.976933</td>\n",
       "      <td>0.977565</td>\n",
       "    </tr>\n",
       "  </tbody>\n",
       "</table><p>"
      ],
      "text/plain": [
       "<IPython.core.display.HTML object>"
      ]
     },
     "metadata": {},
     "output_type": "display_data"
    },
    {
     "name": "stderr",
     "output_type": "stream",
     "text": [
      "c:\\Users\\Dayso\\anaconda3\\envs\\pytorch_CV\\Lib\\site-packages\\peft\\utils\\other.py:1221: UserWarning: Unable to fetch remote file due to the following error (ReadTimeoutError(\"HTTPSConnectionPool(host='huggingface.co', port=443): Read timed out. (read timeout=10)\"), '(Request ID: 8d3d091d-4ef8-47be-b2eb-cfc0bb5b6ae8)') - silently ignoring the lookup for the file config.json in distilbert-base-uncased.\n",
      "  warnings.warn(\n",
      "c:\\Users\\Dayso\\anaconda3\\envs\\pytorch_CV\\Lib\\site-packages\\peft\\utils\\save_and_load.py:238: UserWarning: Could not find a config file in distilbert-base-uncased - will assume that the vocabulary was not modified.\n",
      "  warnings.warn(\n",
      "c:\\Users\\Dayso\\anaconda3\\envs\\pytorch_CV\\Lib\\site-packages\\peft\\utils\\other.py:1221: UserWarning: Unable to fetch remote file due to the following error (ReadTimeoutError(\"HTTPSConnectionPool(host='huggingface.co', port=443): Read timed out. (read timeout=10)\"), '(Request ID: 29150e52-999e-4560-a3c1-92c8046051dc)') - silently ignoring the lookup for the file config.json in distilbert-base-uncased.\n",
      "  warnings.warn(\n",
      "c:\\Users\\Dayso\\anaconda3\\envs\\pytorch_CV\\Lib\\site-packages\\peft\\utils\\save_and_load.py:238: UserWarning: Could not find a config file in distilbert-base-uncased - will assume that the vocabulary was not modified.\n",
      "  warnings.warn(\n"
     ]
    },
    {
     "data": {
      "text/plain": [
       "TrainOutput(global_step=15966, training_loss=0.0796519636671062, metrics={'train_runtime': 1315.4831, 'train_samples_per_second': 194.169, 'train_steps_per_second': 12.137, 'total_flos': 1.7207973866778624e+16, 'train_loss': 0.0796519636671062, 'epoch': 3.0})"
      ]
     },
     "execution_count": 7,
     "metadata": {},
     "output_type": "execute_result"
    }
   ],
   "source": [
    "trainer = Trainer(\n",
    "    model=model,\n",
    "    args=training_args,\n",
    "    train_dataset=tokenized[\"train\"],\n",
    "    eval_dataset=tokenized[\"test\"],\n",
    "    tokenizer=tokenizer,\n",
    "    compute_metrics=compute_metrics\n",
    ")\n",
    "\n",
    "trainer.train()\n"
   ]
  },
  {
   "cell_type": "markdown",
   "id": "4a2d2a00",
   "metadata": {},
   "source": [
    "## 7. Evaluation with test set"
   ]
  },
  {
   "cell_type": "code",
   "execution_count": 8,
   "id": "225f8e5b",
   "metadata": {},
   "outputs": [
    {
     "data": {
      "text/html": [],
      "text/plain": [
       "<IPython.core.display.HTML object>"
      ]
     },
     "metadata": {},
     "output_type": "display_data"
    },
    {
     "name": "stdout",
     "output_type": "stream",
     "text": [
      "              precision    recall  f1-score   support\n",
      "\n",
      "       Human       0.99      0.97      0.98     10508\n",
      "          AI       0.97      0.99      0.98     10778\n",
      "\n",
      "    accuracy                           0.98     21286\n",
      "   macro avg       0.98      0.98      0.98     21286\n",
      "weighted avg       0.98      0.98      0.98     21286\n",
      "\n"
     ]
    }
   ],
   "source": [
    "# Final eval\n",
    "trainer.evaluate()\n",
    "\n",
    "# Classification report\n",
    "preds = trainer.predict(tokenized[\"test\"])\n",
    "y_pred = np.argmax(preds.predictions, axis=1)\n",
    "y_true = preds.label_ids\n",
    "\n",
    "print(classification_report(y_true, y_pred, target_names=[\"Human\", \"AI\"]))\n"
   ]
  },
  {
   "cell_type": "markdown",
   "id": "17828bab",
   "metadata": {},
   "source": [
    "## 8. Saving the model"
   ]
  },
  {
   "cell_type": "code",
   "execution_count": 9,
   "id": "7d34a656",
   "metadata": {},
   "outputs": [
    {
     "name": "stdout",
     "output_type": "stream",
     "text": [
      "Saved PEFT adapter + tokenizer to: ./saved_db/distilbert_peft_adapter_final\n"
     ]
    }
   ],
   "source": [
    "# === Save PEFT adapter + tokenizer ===\n",
    "ADAPTER_DIR = \"./saved_db/distilbert_peft_adapter_final\"\n",
    "TOKENIZER_DIR = ADAPTER_DIR  # save tokenizer alongside for convenience\n",
    "\n",
    "# make sure trainer.model is your trained PEFT model\n",
    "trainer.model.save_pretrained(ADAPTER_DIR)\n",
    "tokenizer.save_pretrained(TOKENIZER_DIR)\n",
    "\n",
    "print(f\"Saved PEFT adapter + tokenizer to: {ADAPTER_DIR}\")"
   ]
  },
  {
   "cell_type": "code",
   "execution_count": 10,
   "id": "1f3ce44a",
   "metadata": {},
   "outputs": [
    {
     "name": "stdout",
     "output_type": "stream",
     "text": [
      "Saved merged full model + tokenizer to: ./saved_db/distilbert_merged_full_final\n"
     ]
    }
   ],
   "source": [
    "# === Merge LoRA into base weights and save a standard model ===\n",
    "from copy import deepcopy\n",
    "\n",
    "MERGED_DIR = \"./saved_db/distilbert_merged_full_final\"\n",
    "\n",
    "# work on a copy so the trainer's in-memory model keeps its PEFT structure\n",
    "merged = deepcopy(trainer.model)\n",
    "merged = merged.merge_and_unload()  # folds LoRA weights into the base model\n",
    "\n",
    "merged.save_pretrained(MERGED_DIR)\n",
    "tokenizer.save_pretrained(MERGED_DIR)\n",
    "\n",
    "print(f\"Saved merged full model + tokenizer to: {MERGED_DIR}\")"
   ]
  }
 ],
 "metadata": {
  "kernelspec": {
   "display_name": "pytorch_CV",
   "language": "python",
   "name": "python3"
  },
  "language_info": {
   "codemirror_mode": {
    "name": "ipython",
    "version": 3
   },
   "file_extension": ".py",
   "mimetype": "text/x-python",
   "name": "python",
   "nbconvert_exporter": "python",
   "pygments_lexer": "ipython3",
   "version": "3.11.9"
  }
 },
 "nbformat": 4,
 "nbformat_minor": 5
}
