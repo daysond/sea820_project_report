{
 "cells": [
  {
   "cell_type": "markdown",
   "id": "792d0e6d",
   "metadata": {},
   "source": [
    "# DistilBERT Model Evaluation with Another Dataset"
   ]
  },
  {
   "cell_type": "markdown",
   "id": "f5da7570",
   "metadata": {},
   "source": [
    "## 1. Load the saved model"
   ]
  },
  {
   "cell_type": "code",
   "execution_count": 1,
   "id": "ed89bcc7",
   "metadata": {},
   "outputs": [
    {
     "data": {
      "text/plain": [
       "DistilBertForSequenceClassification(\n",
       "  (distilbert): DistilBertModel(\n",
       "    (embeddings): Embeddings(\n",
       "      (word_embeddings): Embedding(30522, 768, padding_idx=0)\n",
       "      (position_embeddings): Embedding(512, 768)\n",
       "      (LayerNorm): LayerNorm((768,), eps=1e-12, elementwise_affine=True)\n",
       "      (dropout): Dropout(p=0.1, inplace=False)\n",
       "    )\n",
       "    (transformer): Transformer(\n",
       "      (layer): ModuleList(\n",
       "        (0-5): 6 x TransformerBlock(\n",
       "          (attention): DistilBertSdpaAttention(\n",
       "            (dropout): Dropout(p=0.1, inplace=False)\n",
       "            (q_lin): Linear(in_features=768, out_features=768, bias=True)\n",
       "            (k_lin): Linear(in_features=768, out_features=768, bias=True)\n",
       "            (v_lin): Linear(in_features=768, out_features=768, bias=True)\n",
       "            (out_lin): Linear(in_features=768, out_features=768, bias=True)\n",
       "          )\n",
       "          (sa_layer_norm): LayerNorm((768,), eps=1e-12, elementwise_affine=True)\n",
       "          (ffn): FFN(\n",
       "            (dropout): Dropout(p=0.1, inplace=False)\n",
       "            (lin1): Linear(in_features=768, out_features=3072, bias=True)\n",
       "            (lin2): Linear(in_features=3072, out_features=768, bias=True)\n",
       "            (activation): GELUActivation()\n",
       "          )\n",
       "          (output_layer_norm): LayerNorm((768,), eps=1e-12, elementwise_affine=True)\n",
       "        )\n",
       "      )\n",
       "    )\n",
       "  )\n",
       "  (pre_classifier): Linear(in_features=768, out_features=768, bias=True)\n",
       "  (classifier): Linear(in_features=768, out_features=2, bias=True)\n",
       "  (dropout): Dropout(p=0.2, inplace=False)\n",
       ")"
      ]
     },
     "execution_count": 1,
     "metadata": {},
     "output_type": "execute_result"
    }
   ],
   "source": [
    "from transformers import AutoTokenizer, AutoModelForSequenceClassification\n",
    "\n",
    "MODEL_DIR = \"./saved_db/distilbert_merged_full_final\" \n",
    "eval_tokenizer = AutoTokenizer.from_pretrained(MODEL_DIR)\n",
    "eval_model = AutoModelForSequenceClassification.from_pretrained(MODEL_DIR)\n",
    "eval_model.eval()\n"
   ]
  },
  {
   "cell_type": "markdown",
   "id": "9dda8c6c",
   "metadata": {},
   "source": [
    "## 2. Load the pre-processed dataset"
   ]
  },
  {
   "cell_type": "code",
   "execution_count": 2,
   "id": "eae8fc2d",
   "metadata": {},
   "outputs": [
    {
     "data": {
      "application/vnd.jupyter.widget-view+json": {
       "model_id": "fe1c0141a35f47d78c021ae94b931cbe",
       "version_major": 2,
       "version_minor": 0
      },
      "text/plain": [
       "Generating test split: 0 examples [00:00, ? examples/s]"
      ]
     },
     "metadata": {},
     "output_type": "display_data"
    },
    {
     "data": {
      "application/vnd.jupyter.widget-view+json": {
       "model_id": "17456ede76d0487aac851d27a4d479df",
       "version_major": 2,
       "version_minor": 0
      },
      "text/plain": [
       "Map:   0%|          | 0/59342 [00:00<?, ? examples/s]"
      ]
     },
     "metadata": {},
     "output_type": "display_data"
    },
    {
     "data": {
      "text/plain": [
       "(59342,\n",
       " {'labels': tensor(0),\n",
       "  'input_ids': tensor([  101,  2007,  3008,  2119,  6800,  2013,  3836,  6667,  1010,  4252,\n",
       "           2467,  2038,  2019,  9788, 11084,  2000,  2033,  1012,  1045,  2318,\n",
       "           2026, 14924,  2075,  2449,  1999,  3694,  2184,  2005,  2070,  4979,\n",
       "           2769,  1010,  2021, 14924,  2075,  2003,  2172,  2062, 10368,  2084,\n",
       "           1045,  8078,  1012,  1045,  2147,  2007,  2493,  2040,  9652,  2734,\n",
       "           2000,  3413,  2037,  5352,  2664,  2018,  2069,  2048,  3134,  2187,\n",
       "           1999,  2082,  1012,  7297,  1010,  1045,  2031,  4036,  2493,  2007,\n",
       "           1040,  7274,  2571, 14787,  2021,  2145,  2359,  2000,  7323,  3020,\n",
       "           2495,  1012,  2026,  6587,  3076,  2003,  2069,  1019,  2021,  4587,\n",
       "           2003,  1999,  2010,  2753,  2015,  1012,  2011,  2551,  2007,  2111,\n",
       "           2013,  2367,  3834, 15406,  1998,  5535,  1010,  1045,  2428,  2288,\n",
       "           2000,  2156,  1996,  2088,  1998,  4553,  2129,  2000, 10639,  6464,\n",
       "           1012,  2023,  2621,  1010,  1045,  2318,  2026,  3784, 29464, 21593,\n",
       "          14924, 26340,  1998,  2031,  4036,  2058,  2753,  2493,  2144,  2059,\n",
       "           1012,  2026,  2152,  2082,  2166,  2038,  2042,  3294,  2904,  2044,\n",
       "           2108,  1037, 14924,  2138,  2009,  7545,  2033,  7023,  1010, 11598,\n",
       "           2015,  2026,  4105,  4813,  1998, 16473,  9788,  7264,  1012,   102,\n",
       "              0,     0,     0,     0,     0,     0,     0,     0,     0,     0,\n",
       "              0,     0,     0,     0,     0,     0,     0,     0,     0,     0,\n",
       "              0,     0,     0,     0,     0,     0,     0,     0,     0,     0,\n",
       "              0,     0,     0,     0,     0,     0,     0,     0,     0,     0,\n",
       "              0,     0,     0,     0,     0,     0,     0,     0,     0,     0,\n",
       "              0,     0,     0,     0,     0,     0,     0,     0,     0,     0,\n",
       "              0,     0,     0,     0,     0,     0,     0,     0,     0,     0,\n",
       "              0,     0,     0,     0,     0,     0,     0,     0,     0,     0,\n",
       "              0,     0,     0,     0,     0,     0]),\n",
       "  'attention_mask': tensor([1, 1, 1, 1, 1, 1, 1, 1, 1, 1, 1, 1, 1, 1, 1, 1, 1, 1, 1, 1, 1, 1, 1, 1,\n",
       "          1, 1, 1, 1, 1, 1, 1, 1, 1, 1, 1, 1, 1, 1, 1, 1, 1, 1, 1, 1, 1, 1, 1, 1,\n",
       "          1, 1, 1, 1, 1, 1, 1, 1, 1, 1, 1, 1, 1, 1, 1, 1, 1, 1, 1, 1, 1, 1, 1, 1,\n",
       "          1, 1, 1, 1, 1, 1, 1, 1, 1, 1, 1, 1, 1, 1, 1, 1, 1, 1, 1, 1, 1, 1, 1, 1,\n",
       "          1, 1, 1, 1, 1, 1, 1, 1, 1, 1, 1, 1, 1, 1, 1, 1, 1, 1, 1, 1, 1, 1, 1, 1,\n",
       "          1, 1, 1, 1, 1, 1, 1, 1, 1, 1, 1, 1, 1, 1, 1, 1, 1, 1, 1, 1, 1, 1, 1, 1,\n",
       "          1, 1, 1, 1, 1, 1, 1, 1, 1, 1, 1, 1, 1, 1, 1, 1, 1, 1, 1, 1, 1, 1, 1, 1,\n",
       "          1, 1, 0, 0, 0, 0, 0, 0, 0, 0, 0, 0, 0, 0, 0, 0, 0, 0, 0, 0, 0, 0, 0, 0,\n",
       "          0, 0, 0, 0, 0, 0, 0, 0, 0, 0, 0, 0, 0, 0, 0, 0, 0, 0, 0, 0, 0, 0, 0, 0,\n",
       "          0, 0, 0, 0, 0, 0, 0, 0, 0, 0, 0, 0, 0, 0, 0, 0, 0, 0, 0, 0, 0, 0, 0, 0,\n",
       "          0, 0, 0, 0, 0, 0, 0, 0, 0, 0, 0, 0, 0, 0, 0, 0])})"
      ]
     },
     "execution_count": 2,
     "metadata": {},
     "output_type": "execute_result"
    }
   ],
   "source": [
    "from datasets import load_dataset\n",
    "\n",
    "TEST_CSV = \"./processed_df3_60k_fe.csv\"\n",
    "\n",
    "# Load test-only split from the CSV\n",
    "raw = load_dataset(\"csv\", data_files={\"test\": TEST_CSV})[\"test\"]\n",
    "\n",
    "# Figure out the label column name (common possibilities)\n",
    "possible_label_cols = [\"generated\", \"label\", \"labels\", \"target\", \"y\"]\n",
    "label_col = next((c for c in possible_label_cols if c in raw.column_names), None)\n",
    "if label_col is None:\n",
    "    raise ValueError(f\"Could not find a label column in {raw.column_names}. \"\n",
    "                     \"Please rename your ground-truth column to one of: \"\n",
    "                     f\"{possible_label_cols}\")\n",
    "\n",
    "# Make sure there's a 'text' column\n",
    "if \"text\" not in raw.column_names:\n",
    "    raise ValueError(f\"Could not find 'text' column. Found: {raw.column_names}. \"\n",
    "                     \"Please ensure the CSV has a 'text' column.\")\n",
    "\n",
    "def tok_fn(batch):\n",
    "    return eval_tokenizer(\n",
    "        batch[\"text\"],\n",
    "        padding=\"max_length\",\n",
    "        truncation=True,\n",
    "        max_length=256,\n",
    "    )\n",
    "\n",
    "test_ds = raw.map(tok_fn, batched=True)\n",
    "test_ds = test_ds.rename_column(label_col, \"labels\")\n",
    "\n",
    "# Keep only the needed columns for PyTorch\n",
    "keep_cols = [\"input_ids\", \"attention_mask\", \"labels\"]\n",
    "test_ds = test_ds.remove_columns([c for c in test_ds.column_names if c not in keep_cols])\n",
    "test_ds.set_format(\"torch\", columns=keep_cols)\n",
    "\n",
    "len(test_ds), test_ds[0]\n"
   ]
  },
  {
   "cell_type": "markdown",
   "id": "c680da32",
   "metadata": {},
   "source": [
    "## 3. Evaluate"
   ]
  },
  {
   "cell_type": "code",
   "execution_count": 3,
   "id": "391a5074",
   "metadata": {},
   "outputs": [
    {
     "name": "stderr",
     "output_type": "stream",
     "text": [
      "C:\\Users\\Dayso\\AppData\\Local\\Temp\\ipykernel_44860\\3027606125.py:11: FutureWarning: `tokenizer` is deprecated and will be removed in version 5.0.0 for `Trainer.__init__`. Use `processing_class` instead.\n",
      "  eval_trainer = Trainer(model=eval_model, tokenizer=eval_tokenizer)\n"
     ]
    },
    {
     "data": {
      "text/html": [],
      "text/plain": [
       "<IPython.core.display.HTML object>"
      ]
     },
     "metadata": {},
     "output_type": "display_data"
    },
    {
     "name": "stdout",
     "output_type": "stream",
     "text": [
      "=== Aggregate Metrics ===\n",
      "Accuracy          : 0.6164\n",
      "Precision (macro) : 0.6730\n",
      "Recall (macro)    : 0.6163\n",
      "F1 (macro)        : 0.5821\n",
      "Precision (micro) : 0.6164\n",
      "Recall (micro)    : 0.6164\n",
      "F1 (micro)        : 0.6164\n",
      "Precision (weighted): 0.6730\n",
      "Recall (weighted)   : 0.6164\n",
      "F1 (weighted)       : 0.5822\n",
      "\n",
      "=== Classification Report (per class) ===\n",
      "              precision    recall  f1-score   support\n",
      "\n",
      "           0     0.7719    0.3301    0.4624     29660\n",
      "           1     0.5741    0.9025    0.7018     29682\n",
      "\n",
      "    accuracy                         0.6164     59342\n",
      "   macro avg     0.6730    0.6163    0.5821     59342\n",
      "weighted avg     0.6730    0.6164    0.5822     59342\n",
      "\n",
      "=== Confusion Matrix ===\n",
      "[[ 9790 19870]\n",
      " [ 2893 26789]]\n"
     ]
    }
   ],
   "source": [
    "import numpy as np\n",
    "from transformers import Trainer\n",
    "from sklearn.metrics import (\n",
    "    classification_report,\n",
    "    confusion_matrix,\n",
    "    accuracy_score,\n",
    "    precision_recall_fscore_support\n",
    ")\n",
    "\n",
    "# Use a bare Trainer for prediction convenience\n",
    "eval_trainer = Trainer(model=eval_model, tokenizer=eval_tokenizer)\n",
    "\n",
    "pred_output = eval_trainer.predict(test_ds)\n",
    "logits = pred_output.predictions\n",
    "y_pred = np.argmax(logits, axis=1)\n",
    "y_true = pred_output.label_ids\n",
    "\n",
    "# Overall scores\n",
    "acc = accuracy_score(y_true, y_pred)\n",
    "prec_weighted, rec_weighted, f1_weighted, _ = precision_recall_fscore_support(\n",
    "    y_true, y_pred, average=\"weighted\", zero_division=0\n",
    ")\n",
    "prec_macro, rec_macro, f1_macro, _ = precision_recall_fscore_support(\n",
    "    y_true, y_pred, average=\"macro\", zero_division=0\n",
    ")\n",
    "prec_micro, rec_micro, f1_micro, _ = precision_recall_fscore_support(\n",
    "    y_true, y_pred, average=\"micro\", zero_division=0\n",
    ")\n",
    "\n",
    "print(\"=== Aggregate Metrics ===\")\n",
    "print(f\"Accuracy          : {acc:.4f}\")\n",
    "print(f\"Precision (macro) : {prec_macro:.4f}\")\n",
    "print(f\"Recall (macro)    : {rec_macro:.4f}\")\n",
    "print(f\"F1 (macro)        : {f1_macro:.4f}\")\n",
    "print(f\"Precision (micro) : {prec_micro:.4f}\")\n",
    "print(f\"Recall (micro)    : {rec_micro:.4f}\")\n",
    "print(f\"F1 (micro)        : {f1_micro:.4f}\")\n",
    "print(f\"Precision (weighted): {prec_weighted:.4f}\")\n",
    "print(f\"Recall (weighted)   : {rec_weighted:.4f}\")\n",
    "print(f\"F1 (weighted)       : {f1_weighted:.4f}\")\n",
    "\n",
    "# Per-class report (includes precision/recall/F1 and support by class)\n",
    "print(\"\\n=== Classification Report (per class) ===\")\n",
    "print(classification_report(y_true, y_pred, digits=4, zero_division=0))\n",
    "\n",
    "# Confusion matrix\n",
    "cm = confusion_matrix(y_true, y_pred)\n",
    "print(\"=== Confusion Matrix ===\")\n",
    "print(cm)\n"
   ]
  }
 ],
 "metadata": {
  "kernelspec": {
   "display_name": "pytorch_CV",
   "language": "python",
   "name": "python3"
  },
  "language_info": {
   "codemirror_mode": {
    "name": "ipython",
    "version": 3
   },
   "file_extension": ".py",
   "mimetype": "text/x-python",
   "name": "python",
   "nbconvert_exporter": "python",
   "pygments_lexer": "ipython3",
   "version": "3.11.9"
  }
 },
 "nbformat": 4,
 "nbformat_minor": 5
}
