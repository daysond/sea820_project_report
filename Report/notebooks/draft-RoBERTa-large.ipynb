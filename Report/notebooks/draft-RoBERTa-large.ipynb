{
 "cells": [
  {
   "cell_type": "code",
   "execution_count": 1,
   "id": "524fbae8",
   "metadata": {},
   "outputs": [],
   "source": [
    "## Imports\n",
    "from datasets import load_dataset\n",
    "from transformers import AutoTokenizer, AutoModelForSequenceClassification, TrainingArguments, Trainer\n",
    "from peft import get_peft_model, LoraConfig, TaskType\n",
    "from sklearn.utils import class_weight\n",
    "from collections import Counter\n",
    "import torch\n",
    "import numpy as np\n",
    "import evaluate"
   ]
  },
  {
   "cell_type": "markdown",
   "id": "43de46ed",
   "metadata": {},
   "source": [
    "## Load the dataset"
   ]
  },
  {
   "cell_type": "code",
   "execution_count": 2,
   "id": "626fd3ee",
   "metadata": {},
   "outputs": [],
   "source": [
    "# === Load CSV ===\n",
    "dataset = load_dataset(\"csv\", data_files=\"./AI_Human.csv\")\n",
    "\n",
    "# === Tokenizer ===\n",
    "tokenizer = AutoTokenizer.from_pretrained(\"roberta-large\")\n",
    "\n",
    "def tokenize_fn(example):\n",
    "    return tokenizer(example[\"text\"], padding=\"max_length\", truncation=True, max_length=256)\n",
    "\n",
    "tokenized = dataset.map(tokenize_fn, batched=True)\n",
    "tokenized = tokenized.rename_column(\"generated\", \"labels\")\n",
    "tokenized.set_format(\"torch\", columns=[\"input_ids\", \"attention_mask\", \"labels\"])"
   ]
  },
  {
   "cell_type": "code",
   "execution_count": 3,
   "id": "589f1b52",
   "metadata": {},
   "outputs": [
    {
     "name": "stdout",
     "output_type": "stream",
     "text": [
      "Class distribution: Counter({0.0: 305797, 1.0: 181438})\n",
      "Class weights: tensor([0.7967, 1.3427])\n"
     ]
    }
   ],
   "source": [
    "# === Compute class weights ===\n",
    "labels = dataset[\"train\"][\"generated\"]\n",
    "classes = np.unique(labels)\n",
    "weights = class_weight.compute_class_weight(\"balanced\", classes=classes, y=labels)\n",
    "class_weights = torch.tensor(weights, dtype=torch.float)\n",
    "\n",
    "print(\"Class distribution:\", Counter(labels))\n",
    "print(\"Class weights:\", class_weights)"
   ]
  },
  {
   "cell_type": "code",
   "execution_count": 4,
   "id": "694ad930",
   "metadata": {},
   "outputs": [
    {
     "name": "stderr",
     "output_type": "stream",
     "text": [
      "Some weights of RobertaForSequenceClassification were not initialized from the model checkpoint at roberta-large and are newly initialized: ['classifier.dense.bias', 'classifier.dense.weight', 'classifier.out_proj.bias', 'classifier.out_proj.weight']\n",
      "You should probably TRAIN this model on a down-stream task to be able to use it for predictions and inference.\n"
     ]
    }
   ],
   "source": [
    "# === Load RoBERTa-large with LoRA ===\n",
    "base_model = AutoModelForSequenceClassification.from_pretrained(\"roberta-large\", num_labels=2)\n",
    "\n",
    "lora_config = LoraConfig(\n",
    "    r=8,\n",
    "    lora_alpha=16,\n",
    "    target_modules=[\"query\", \"value\"],\n",
    "    lora_dropout=0.1,\n",
    "    bias=\"none\",\n",
    "    task_type=TaskType.SEQ_CLS,\n",
    ")\n",
    "\n",
    "model = get_peft_model(base_model, lora_config)"
   ]
  },
  {
   "cell_type": "code",
   "execution_count": 5,
   "id": "f75940dc",
   "metadata": {},
   "outputs": [],
   "source": [
    "# === Custom loss with class weights ===\n",
    "def compute_loss(model, inputs, return_outputs=False):\n",
    "    labels = inputs.pop(\"labels\")\n",
    "    outputs = model(**inputs)\n",
    "    logits = outputs.logits\n",
    "    loss_fn = torch.nn.CrossEntropyLoss(weight=class_weights.to(logits.device))\n",
    "    loss = loss_fn(logits, labels)\n",
    "    return (loss, outputs) if return_outputs else loss\n",
    "\n",
    "# === Evaluation metrics ===\n",
    "accuracy = evaluate.load(\"accuracy\")\n",
    "f1 = evaluate.load(\"f1\")\n",
    "\n",
    "def compute_metrics(eval_pred):\n",
    "    logits, labels = eval_pred\n",
    "    preds = torch.argmax(torch.tensor(logits), dim=1)\n",
    "    return {\n",
    "        \"accuracy\": accuracy.compute(predictions=preds, references=labels)[\"accuracy\"],\n",
    "        \"f1\": f1.compute(predictions=preds, references=labels)[\"f1\"]\n",
    "    }\n"
   ]
  },
  {
   "cell_type": "code",
   "execution_count": 6,
   "id": "f31f2cfe",
   "metadata": {},
   "outputs": [],
   "source": [
    "# === Training arguments ===\n",
    "training_args = TrainingArguments(\n",
    "    output_dir=\"./roberta-large-peft-ai-human\",\n",
    "    per_device_train_batch_size=8,\n",
    "    per_device_eval_batch_size=16,\n",
    "    num_train_epochs=3,\n",
    "    eval_strategy=\"epoch\",\n",
    "    save_strategy=\"epoch\",\n",
    "    learning_rate=2e-5,\n",
    "    weight_decay=0.01,\n",
    "    logging_dir=\"./logs\",\n",
    "    logging_steps=20,\n",
    "    load_best_model_at_end=True,\n",
    "    fp16=True,\n",
    ")"
   ]
  },
  {
   "cell_type": "code",
   "execution_count": 7,
   "id": "948d7ba9",
   "metadata": {},
   "outputs": [],
   "source": [
    "class CustomTrainer(Trainer):\n",
    "    def compute_loss(self, model, inputs, return_outputs=False, **kwargs):\n",
    "        labels = inputs.pop(\"labels\").long()  \n",
    "        outputs = model(**inputs)\n",
    "        logits = outputs.logits\n",
    "        loss_fn = torch.nn.CrossEntropyLoss(weight=class_weights.to(logits.device))\n",
    "        loss = loss_fn(logits, labels)\n",
    "        return (loss, outputs) if return_outputs else loss"
   ]
  },
  {
   "cell_type": "code",
   "execution_count": 8,
   "id": "afe0c3e7",
   "metadata": {},
   "outputs": [
    {
     "name": "stderr",
     "output_type": "stream",
     "text": [
      "C:\\Users\\Dayso\\AppData\\Local\\Temp\\ipykernel_29924\\3427178716.py:7: FutureWarning: `tokenizer` is deprecated and will be removed in version 5.0.0 for `CustomTrainer.__init__`. Use `processing_class` instead.\n",
      "  trainer = CustomTrainer(  # use custom trainer defined below\n",
      "No label_names provided for model class `PeftModelForSequenceClassification`. Since `PeftModel` hides base models input arguments, if label_names is not given, label_names can't be set automatically within `Trainer`. Note that empty label_names list will be used instead.\n"
     ]
    }
   ],
   "source": [
    "# === Split train/validation ===\n",
    "split = tokenized[\"train\"].train_test_split(test_size=0.1, seed=42)\n",
    "train_ds = split[\"train\"]\n",
    "eval_ds = split[\"test\"]\n",
    "\n",
    "\n",
    "trainer = CustomTrainer(  # use custom trainer defined below\n",
    "    model=model,\n",
    "    args=training_args,\n",
    "    train_dataset=train_ds,\n",
    "    eval_dataset=eval_ds,\n",
    "    tokenizer=tokenizer,  # FutureWarning: will be removed — still works for now\n",
    "    compute_metrics=compute_metrics\n",
    ")"
   ]
  },
  {
   "cell_type": "code",
   "execution_count": 9,
   "id": "e5c1060c",
   "metadata": {},
   "outputs": [
    {
     "data": {
      "text/html": [
       "\n",
       "    <div>\n",
       "      \n",
       "      <progress value='164442' max='164442' style='width:300px; height:20px; vertical-align: middle;'></progress>\n",
       "      [164442/164442 7:34:48, Epoch 3/3]\n",
       "    </div>\n",
       "    <table border=\"1\" class=\"dataframe\">\n",
       "  <thead>\n",
       " <tr style=\"text-align: left;\">\n",
       "      <th>Epoch</th>\n",
       "      <th>Training Loss</th>\n",
       "      <th>Validation Loss</th>\n",
       "      <th>Accuracy</th>\n",
       "      <th>F1</th>\n",
       "    </tr>\n",
       "  </thead>\n",
       "  <tbody>\n",
       "    <tr>\n",
       "      <td>1</td>\n",
       "      <td>0.041600</td>\n",
       "      <td>0.063777</td>\n",
       "      <td>0.987296</td>\n",
       "      <td>0.983318</td>\n",
       "    </tr>\n",
       "    <tr>\n",
       "      <td>2</td>\n",
       "      <td>0.000100</td>\n",
       "      <td>0.091543</td>\n",
       "      <td>0.984771</td>\n",
       "      <td>0.980099</td>\n",
       "    </tr>\n",
       "    <tr>\n",
       "      <td>3</td>\n",
       "      <td>0.000000</td>\n",
       "      <td>0.058418</td>\n",
       "      <td>0.991236</td>\n",
       "      <td>0.988454</td>\n",
       "    </tr>\n",
       "  </tbody>\n",
       "</table><p>"
      ],
      "text/plain": [
       "<IPython.core.display.HTML object>"
      ]
     },
     "metadata": {},
     "output_type": "display_data"
    },
    {
     "name": "stderr",
     "output_type": "stream",
     "text": [
      "c:\\Users\\Dayso\\anaconda3\\envs\\pytorch_CV\\Lib\\site-packages\\peft\\utils\\other.py:1221: UserWarning: Unable to fetch remote file due to the following error (ReadTimeoutError(\"HTTPSConnectionPool(host='huggingface.co', port=443): Read timed out. (read timeout=10)\"), '(Request ID: 2b328107-278c-42f0-aa4c-d710488550e1)') - silently ignoring the lookup for the file config.json in roberta-large.\n",
      "  warnings.warn(\n",
      "c:\\Users\\Dayso\\anaconda3\\envs\\pytorch_CV\\Lib\\site-packages\\peft\\utils\\save_and_load.py:238: UserWarning: Could not find a config file in roberta-large - will assume that the vocabulary was not modified.\n",
      "  warnings.warn(\n",
      "c:\\Users\\Dayso\\anaconda3\\envs\\pytorch_CV\\Lib\\site-packages\\peft\\utils\\other.py:1221: UserWarning: Unable to fetch remote file due to the following error (ReadTimeoutError(\"HTTPSConnectionPool(host='huggingface.co', port=443): Read timed out. (read timeout=10)\"), '(Request ID: 2fb9407b-5ed1-4ded-bfcd-f843dd2cde9d)') - silently ignoring the lookup for the file config.json in roberta-large.\n",
      "  warnings.warn(\n",
      "c:\\Users\\Dayso\\anaconda3\\envs\\pytorch_CV\\Lib\\site-packages\\peft\\utils\\save_and_load.py:238: UserWarning: Could not find a config file in roberta-large - will assume that the vocabulary was not modified.\n",
      "  warnings.warn(\n"
     ]
    },
    {
     "data": {
      "text/plain": [
       "TrainOutput(global_step=164442, training_loss=0.012417587256003093, metrics={'train_runtime': 27289.305, 'train_samples_per_second': 48.207, 'train_steps_per_second': 6.026, 'total_flos': 6.167073674590433e+17, 'train_loss': 0.012417587256003093, 'epoch': 3.0})"
      ]
     },
     "execution_count": 9,
     "metadata": {},
     "output_type": "execute_result"
    }
   ],
   "source": [
    "# === Train ===\n",
    "trainer.train()"
   ]
  },
  {
   "cell_type": "code",
   "execution_count": null,
   "id": "a4b8d6e6",
   "metadata": {},
   "outputs": [],
   "source": [
    "# save the model"
   ]
  },
  {
   "cell_type": "code",
   "execution_count": 10,
   "id": "c486552d",
   "metadata": {},
   "outputs": [
    {
     "name": "stdout",
     "output_type": "stream",
     "text": [
      "Saved PEFT adapter + tokenizer to: ./saved_large/roberta_peft_adapter\n"
     ]
    }
   ],
   "source": [
    "# === Save PEFT adapter + tokenizer ===\n",
    "ADAPTER_DIR = \"./saved_large/roberta_peft_adapter\"\n",
    "TOKENIZER_DIR = ADAPTER_DIR  # save tokenizer alongside for convenience\n",
    "\n",
    "# make sure trainer.model is your trained PEFT model\n",
    "trainer.model.save_pretrained(ADAPTER_DIR)\n",
    "tokenizer.save_pretrained(TOKENIZER_DIR)\n",
    "\n",
    "print(f\"Saved PEFT adapter + tokenizer to: {ADAPTER_DIR}\")"
   ]
  },
  {
   "cell_type": "code",
   "execution_count": 11,
   "id": "73dfc39c",
   "metadata": {},
   "outputs": [
    {
     "name": "stdout",
     "output_type": "stream",
     "text": [
      "Saved merged full model + tokenizer to: ./saved_large/roberta_merged_full\n"
     ]
    }
   ],
   "source": [
    "# === Merge LoRA into base weights and save a standard model ===\n",
    "from copy import deepcopy\n",
    "\n",
    "MERGED_DIR = \"./saved_large/roberta_merged_full\"\n",
    "\n",
    "# work on a copy so the trainer's in-memory model keeps its PEFT structure\n",
    "merged = deepcopy(trainer.model)\n",
    "merged = merged.merge_and_unload()  # folds LoRA weights into the base model\n",
    "\n",
    "merged.save_pretrained(MERGED_DIR)\n",
    "tokenizer.save_pretrained(MERGED_DIR)\n",
    "\n",
    "print(f\"Saved merged full model + tokenizer to: {MERGED_DIR}\")\n"
   ]
  },
  {
   "cell_type": "code",
   "execution_count": null,
   "id": "e1153b9f",
   "metadata": {},
   "outputs": [
    {
     "data": {
      "text/html": [
       "\n",
       "    <div>\n",
       "      \n",
       "      <progress value='14' max='3046' style='width:300px; height:20px; vertical-align: middle;'></progress>\n",
       "      [  14/3046 11:30 < 44:43:36, 0.02 it/s]\n",
       "    </div>\n",
       "    "
      ],
      "text/plain": [
       "<IPython.core.display.HTML object>"
      ]
     },
     "metadata": {},
     "output_type": "display_data"
    }
   ],
   "source": [
    "from sklearn.metrics import classification_report\n",
    "# Final eval\n",
    "trainer.evaluate()\n",
    "\n",
    "# Classification report\n",
    "preds = trainer.predict(tokenized[\"test\"])\n",
    "y_pred = np.argmax(preds.predictions, axis=1)\n",
    "y_true = preds.label_ids\n",
    "\n",
    "print(classification_report(y_true, y_pred, target_names=[\"Human\", \"AI\"]))\n"
   ]
  }
 ],
 "metadata": {
  "kernelspec": {
   "display_name": "pytorch_CV",
   "language": "python",
   "name": "python3"
  },
  "language_info": {
   "codemirror_mode": {
    "name": "ipython",
    "version": 3
   },
   "file_extension": ".py",
   "mimetype": "text/x-python",
   "name": "python",
   "nbconvert_exporter": "python",
   "pygments_lexer": "ipython3",
   "version": "3.11.9"
  }
 },
 "nbformat": 4,
 "nbformat_minor": 5
}
