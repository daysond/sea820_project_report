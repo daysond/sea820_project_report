{
 "cells": [
  {
   "cell_type": "code",
   "execution_count": 1,
   "id": "ed89bcc7",
   "metadata": {},
   "outputs": [
    {
     "data": {
      "text/plain": [
       "RobertaForSequenceClassification(\n",
       "  (roberta): RobertaModel(\n",
       "    (embeddings): RobertaEmbeddings(\n",
       "      (word_embeddings): Embedding(50265, 1024, padding_idx=1)\n",
       "      (position_embeddings): Embedding(514, 1024, padding_idx=1)\n",
       "      (token_type_embeddings): Embedding(1, 1024)\n",
       "      (LayerNorm): LayerNorm((1024,), eps=1e-05, elementwise_affine=True)\n",
       "      (dropout): Dropout(p=0.1, inplace=False)\n",
       "    )\n",
       "    (encoder): RobertaEncoder(\n",
       "      (layer): ModuleList(\n",
       "        (0-23): 24 x RobertaLayer(\n",
       "          (attention): RobertaAttention(\n",
       "            (self): RobertaSdpaSelfAttention(\n",
       "              (query): Linear(in_features=1024, out_features=1024, bias=True)\n",
       "              (key): Linear(in_features=1024, out_features=1024, bias=True)\n",
       "              (value): Linear(in_features=1024, out_features=1024, bias=True)\n",
       "              (dropout): Dropout(p=0.1, inplace=False)\n",
       "            )\n",
       "            (output): RobertaSelfOutput(\n",
       "              (dense): Linear(in_features=1024, out_features=1024, bias=True)\n",
       "              (LayerNorm): LayerNorm((1024,), eps=1e-05, elementwise_affine=True)\n",
       "              (dropout): Dropout(p=0.1, inplace=False)\n",
       "            )\n",
       "          )\n",
       "          (intermediate): RobertaIntermediate(\n",
       "            (dense): Linear(in_features=1024, out_features=4096, bias=True)\n",
       "            (intermediate_act_fn): GELUActivation()\n",
       "          )\n",
       "          (output): RobertaOutput(\n",
       "            (dense): Linear(in_features=4096, out_features=1024, bias=True)\n",
       "            (LayerNorm): LayerNorm((1024,), eps=1e-05, elementwise_affine=True)\n",
       "            (dropout): Dropout(p=0.1, inplace=False)\n",
       "          )\n",
       "        )\n",
       "      )\n",
       "    )\n",
       "  )\n",
       "  (classifier): RobertaClassificationHead(\n",
       "    (dense): Linear(in_features=1024, out_features=1024, bias=True)\n",
       "    (dropout): Dropout(p=0.1, inplace=False)\n",
       "    (out_proj): Linear(in_features=1024, out_features=2, bias=True)\n",
       "  )\n",
       ")"
      ]
     },
     "execution_count": 1,
     "metadata": {},
     "output_type": "execute_result"
    }
   ],
   "source": [
    "from transformers import AutoTokenizer, AutoModelForSequenceClassification\n",
    "\n",
    "MODEL_DIR = \"./saved_large/roberta_merged_full\"  \n",
    "\n",
    "eval_tokenizer = AutoTokenizer.from_pretrained(MODEL_DIR)\n",
    "eval_model = AutoModelForSequenceClassification.from_pretrained(MODEL_DIR)\n",
    "eval_model.eval()\n"
   ]
  },
  {
   "cell_type": "code",
   "execution_count": 2,
   "id": "eae8fc2d",
   "metadata": {},
   "outputs": [
    {
     "data": {
      "application/vnd.jupyter.widget-view+json": {
       "model_id": "c62f9607e7634966bb6ff0e717a2a3d1",
       "version_major": 2,
       "version_minor": 0
      },
      "text/plain": [
       "Map:   0%|          | 0/56112 [00:00<?, ? examples/s]"
      ]
     },
     "metadata": {},
     "output_type": "display_data"
    },
    {
     "data": {
      "text/plain": [
       "(56112,\n",
       " {'labels': tensor(0),\n",
       "  'input_ids': tensor([    0,  2387,    94,    80,  3482,  6734,    33,    57, 26262,     4,\n",
       "           1426,   186,    38,  3584,     5,  3962, 14585, 26291, 26909,    13,\n",
       "           3630,     4,    85,  1415,   205,    38,   802,    53,    77,    38,\n",
       "          10963,   763,  5686,    24,     5,  3539,    21, 26262, 39925,     8,\n",
       "           1299, 11875,   219,    98,    38,  1835,    24,     5,   220,   183,\n",
       "              4,  2477,    38,   794,   106, 16761,    62,     5,  3539,  3231,\n",
       "             19, 23784,  1525, 14585, 26291, 26909,     4,   152,    86,    38,\n",
       "            802,   103,     9,     5,  3539,   399,    75,   356,  2310,     8,\n",
       "              5, 12901, 15949,  4062,  4154,   530,  4248,  7346, 25322,  1691,\n",
       "          34157, 38227,   226,  9993,   226,  9993,    18,     4,  1892,    38,\n",
       "            439,     7,  1649,    66,     8,    38,   399,    75,   619,   101,\n",
       "           2445,    10,   457,  1946,    25,     5,    80,  2301,   490,    56,\n",
       "           1232,    19,  1533, 31282,  3820,    70,     5,   169,    62,    98,\n",
       "             38,   222,     5,  1403,  1649,    66,     8,    14,    21,  2051,\n",
       "              4,    20, 10562,    15,   127,  9727,  5930,    80,    10,   354,\n",
       "           1634,   137,     5,  5718,   516,     4,   407,    38,    56,     7,\n",
       "           8386,   127,  9727,    66,    31,    11,   760,     9,   951,    18,\n",
       "            512,     4, 17780,   127,  5565,     8,     5,    65,  3298,  5712,\n",
       "           4102,    15,   162,     8,   127,  2682,  5712,     7,     5,  1255,\n",
       "              4,    83,  2173,    11,     5,   319,   174,   162,   167, 31282,\n",
       "            109,   120,    66,     9, 22785,  2128,     4,   407,  6823,  1862,\n",
       "          21688, 40375,   163,  3450,   104,   328,    20,  9329,   256,  8167,\n",
       "             28, 29136,   328,  1456, 13915,  6537,    13,   110,  9727,     7,\n",
       "           6017,  7014,    24, 10562,   137,    47,   120,     7,   110,   512,\n",
       "              4,     2,     1,     1,     1,     1,     1,     1,     1,     1,\n",
       "              1,     1,     1,     1,     1,     1]),\n",
       "  'attention_mask': tensor([1, 1, 1, 1, 1, 1, 1, 1, 1, 1, 1, 1, 1, 1, 1, 1, 1, 1, 1, 1, 1, 1, 1, 1,\n",
       "          1, 1, 1, 1, 1, 1, 1, 1, 1, 1, 1, 1, 1, 1, 1, 1, 1, 1, 1, 1, 1, 1, 1, 1,\n",
       "          1, 1, 1, 1, 1, 1, 1, 1, 1, 1, 1, 1, 1, 1, 1, 1, 1, 1, 1, 1, 1, 1, 1, 1,\n",
       "          1, 1, 1, 1, 1, 1, 1, 1, 1, 1, 1, 1, 1, 1, 1, 1, 1, 1, 1, 1, 1, 1, 1, 1,\n",
       "          1, 1, 1, 1, 1, 1, 1, 1, 1, 1, 1, 1, 1, 1, 1, 1, 1, 1, 1, 1, 1, 1, 1, 1,\n",
       "          1, 1, 1, 1, 1, 1, 1, 1, 1, 1, 1, 1, 1, 1, 1, 1, 1, 1, 1, 1, 1, 1, 1, 1,\n",
       "          1, 1, 1, 1, 1, 1, 1, 1, 1, 1, 1, 1, 1, 1, 1, 1, 1, 1, 1, 1, 1, 1, 1, 1,\n",
       "          1, 1, 1, 1, 1, 1, 1, 1, 1, 1, 1, 1, 1, 1, 1, 1, 1, 1, 1, 1, 1, 1, 1, 1,\n",
       "          1, 1, 1, 1, 1, 1, 1, 1, 1, 1, 1, 1, 1, 1, 1, 1, 1, 1, 1, 1, 1, 1, 1, 1,\n",
       "          1, 1, 1, 1, 1, 1, 1, 1, 1, 1, 1, 1, 1, 1, 1, 1, 1, 1, 1, 1, 1, 1, 1, 1,\n",
       "          1, 1, 0, 0, 0, 0, 0, 0, 0, 0, 0, 0, 0, 0, 0, 0])})"
      ]
     },
     "execution_count": 2,
     "metadata": {},
     "output_type": "execute_result"
    }
   ],
   "source": [
    "from datasets import load_dataset\n",
    "\n",
    "TEST_CSV = \"./processed_df3_60k.csv\"\n",
    "\n",
    "# Load test-only split from the CSV\n",
    "raw = load_dataset(\"csv\", data_files={\"test\": TEST_CSV})[\"test\"]\n",
    "\n",
    "# Figure out the label column name (common possibilities)\n",
    "possible_label_cols = [\"generated\", \"label\", \"labels\", \"target\", \"y\"]\n",
    "label_col = next((c for c in possible_label_cols if c in raw.column_names), None)\n",
    "if label_col is None:\n",
    "    raise ValueError(f\"Could not find a label column in {raw.column_names}. \"\n",
    "                     \"Please rename your ground-truth column to one of: \"\n",
    "                     f\"{possible_label_cols}\")\n",
    "\n",
    "# Make sure there's a 'text' column\n",
    "if \"text\" not in raw.column_names:\n",
    "    raise ValueError(f\"Could not find 'text' column. Found: {raw.column_names}. \"\n",
    "                     \"Please ensure the CSV has a 'text' column.\")\n",
    "\n",
    "def tok_fn(batch):\n",
    "    return eval_tokenizer(\n",
    "        batch[\"text\"],\n",
    "        padding=\"max_length\",\n",
    "        truncation=True,\n",
    "        max_length=256,\n",
    "    )\n",
    "\n",
    "test_ds = raw.map(tok_fn, batched=True)\n",
    "test_ds = test_ds.rename_column(label_col, \"labels\")\n",
    "\n",
    "# Keep only the needed columns for PyTorch\n",
    "keep_cols = [\"input_ids\", \"attention_mask\", \"labels\"]\n",
    "test_ds = test_ds.remove_columns([c for c in test_ds.column_names if c not in keep_cols])\n",
    "test_ds.set_format(\"torch\", columns=keep_cols)\n",
    "\n",
    "len(test_ds), test_ds[0]\n"
   ]
  },
  {
   "cell_type": "code",
   "execution_count": 3,
   "id": "391a5074",
   "metadata": {},
   "outputs": [
    {
     "name": "stderr",
     "output_type": "stream",
     "text": [
      "C:\\Users\\Dayso\\AppData\\Local\\Temp\\ipykernel_43516\\3027606125.py:11: FutureWarning: `tokenizer` is deprecated and will be removed in version 5.0.0 for `Trainer.__init__`. Use `processing_class` instead.\n",
      "  eval_trainer = Trainer(model=eval_model, tokenizer=eval_tokenizer)\n"
     ]
    },
    {
     "data": {
      "text/html": [],
      "text/plain": [
       "<IPython.core.display.HTML object>"
      ]
     },
     "metadata": {},
     "output_type": "display_data"
    },
    {
     "name": "stdout",
     "output_type": "stream",
     "text": [
      "=== Aggregate Metrics ===\n",
      "Accuracy          : 0.5901\n",
      "Precision (macro) : 0.6811\n",
      "Recall (macro)    : 0.5970\n",
      "F1 (macro)        : 0.5398\n",
      "Precision (micro) : 0.5901\n",
      "Recall (micro)    : 0.5901\n",
      "F1 (micro)        : 0.5901\n",
      "Precision (weighted): 0.6838\n",
      "Recall (weighted)   : 0.5901\n",
      "F1 (weighted)       : 0.5367\n",
      "\n",
      "=== Classification Report (per class) ===\n",
      "              precision    recall  f1-score   support\n",
      "\n",
      "           0     0.8147    0.2543    0.3877     28627\n",
      "           1     0.5475    0.9397    0.6919     27485\n",
      "\n",
      "    accuracy                         0.5901     56112\n",
      "   macro avg     0.6811    0.5970    0.5398     56112\n",
      "weighted avg     0.6838    0.5901    0.5367     56112\n",
      "\n",
      "=== Confusion Matrix ===\n",
      "[[ 7281 21346]\n",
      " [ 1656 25829]]\n"
     ]
    }
   ],
   "source": [
    "import numpy as np\n",
    "from transformers import Trainer\n",
    "from sklearn.metrics import (\n",
    "    classification_report,\n",
    "    confusion_matrix,\n",
    "    accuracy_score,\n",
    "    precision_recall_fscore_support\n",
    ")\n",
    "\n",
    "# Use a bare Trainer for prediction convenience\n",
    "eval_trainer = Trainer(model=eval_model, tokenizer=eval_tokenizer)\n",
    "\n",
    "pred_output = eval_trainer.predict(test_ds)\n",
    "logits = pred_output.predictions\n",
    "y_pred = np.argmax(logits, axis=1)\n",
    "y_true = pred_output.label_ids\n",
    "\n",
    "# Overall scores\n",
    "acc = accuracy_score(y_true, y_pred)\n",
    "prec_weighted, rec_weighted, f1_weighted, _ = precision_recall_fscore_support(\n",
    "    y_true, y_pred, average=\"weighted\", zero_division=0\n",
    ")\n",
    "prec_macro, rec_macro, f1_macro, _ = precision_recall_fscore_support(\n",
    "    y_true, y_pred, average=\"macro\", zero_division=0\n",
    ")\n",
    "prec_micro, rec_micro, f1_micro, _ = precision_recall_fscore_support(\n",
    "    y_true, y_pred, average=\"micro\", zero_division=0\n",
    ")\n",
    "\n",
    "print(\"=== Aggregate Metrics ===\")\n",
    "print(f\"Accuracy          : {acc:.4f}\")\n",
    "print(f\"Precision (macro) : {prec_macro:.4f}\")\n",
    "print(f\"Recall (macro)    : {rec_macro:.4f}\")\n",
    "print(f\"F1 (macro)        : {f1_macro:.4f}\")\n",
    "print(f\"Precision (micro) : {prec_micro:.4f}\")\n",
    "print(f\"Recall (micro)    : {rec_micro:.4f}\")\n",
    "print(f\"F1 (micro)        : {f1_micro:.4f}\")\n",
    "print(f\"Precision (weighted): {prec_weighted:.4f}\")\n",
    "print(f\"Recall (weighted)   : {rec_weighted:.4f}\")\n",
    "print(f\"F1 (weighted)       : {f1_weighted:.4f}\")\n",
    "\n",
    "# Per-class report (includes precision/recall/F1 and support by class)\n",
    "print(\"\\n=== Classification Report (per class) ===\")\n",
    "print(classification_report(y_true, y_pred, digits=4, zero_division=0))\n",
    "\n",
    "# Confusion matrix\n",
    "cm = confusion_matrix(y_true, y_pred)\n",
    "print(\"=== Confusion Matrix ===\")\n",
    "print(cm)\n"
   ]
  }
 ],
 "metadata": {
  "kernelspec": {
   "display_name": "pytorch_CV",
   "language": "python",
   "name": "python3"
  },
  "language_info": {
   "codemirror_mode": {
    "name": "ipython",
    "version": 3
   },
   "file_extension": ".py",
   "mimetype": "text/x-python",
   "name": "python",
   "nbconvert_exporter": "python",
   "pygments_lexer": "ipython3",
   "version": "3.11.9"
  }
 },
 "nbformat": 4,
 "nbformat_minor": 5
}
